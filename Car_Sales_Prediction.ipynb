{
 "cells": [
  {
   "cell_type": "code",
   "execution_count": null,
   "metadata": {
    "_cell_guid": "b1076dfc-b9ad-4769-8c92-a6c4dae69d19",
    "_uuid": "8f2839f25d086af736a60e9eeb907d3b93b6e0e5"
   },
   "outputs": [],
   "source": [
    "import numpy as np\n",
    "import pandas as pd\n",
    "import matplotlib.pyplot as plt\n",
    "from sklearn.model_selection import train_test_split, KFold, GridSearchCV, cross_val_predict\n",
    "from sklearn.linear_model import LinearRegression\n",
    "from sklearn.neighbors import KNeighborsRegressor\n",
    "from sklearn.svm import SVR\n",
    "from sklearn.tree import DecisionTreeRegressor\n",
    "from sklearn.ensemble import RandomForestRegressor, GradientBoostingRegressor\n",
    "from sklearn.neural_network import MLPRegressor\n",
    "import xgboost as xgb\n",
    "%matplotlib inline"
   ]
  },
  {
   "cell_type": "code",
   "execution_count": null,
   "metadata": {
    "_cell_guid": "79c7e3d0-c299-4dcb-8224-4455121ee9b0",
    "_uuid": "d629ff2d2480ee46fbb7e2d37f6b5fab8052498a"
   },
   "outputs": [],
   "source": [
    "# Read Dataset\n",
    "\n",
    "df = pd.read_csv('../input/Car_sales.csv')\n",
    "df.replace('.', np.nan, inplace=True)\n",
    "df = df.dropna()\n",
    "print(df.shape)\n",
    "df.head()"
   ]
  },
  {
   "cell_type": "code",
   "execution_count": null,
   "metadata": {
    "_uuid": "d23c9c932d648729d269d5bae2402a867beef129"
   },
   "outputs": [],
   "source": [
    "# Change 'Passenger' to binary indicators\n",
    "# Convert object to float64\n",
    "\n",
    "df['Passenger'] = (df['Vehicle type']=='Passenger')\n",
    "df.drop('Vehicle type', inplace=True, axis=1)\n",
    "\n",
    "for i in df.columns[2:-2]:\n",
    "    df[i] = pd.to_numeric(df[i])"
   ]
  },
  {
   "cell_type": "code",
   "execution_count": null,
   "metadata": {
    "_uuid": "112e3fc684b6cad11670696ec1ad261607768f53"
   },
   "outputs": [],
   "source": [
    "# Convert 'Latest Launch' to the number of days after 1-Jan-1970\n",
    "\n",
    "df['Latest Launch'] = pd.to_datetime(df['Latest Launch'])\n",
    "df['Latest Launch'] = (df['Latest Launch'] - pd.Timestamp(1970, 1, 1)).astype(str)\n",
    "for i in df.index:\n",
    "    df.loc[i, 'Latest Launch'] = float(df.loc[i, 'Latest Launch'].split()[0])"
   ]
  },
  {
   "cell_type": "code",
   "execution_count": null,
   "metadata": {
    "_uuid": "aa0d609f9c419952ccb7b16178f203a3a363223d"
   },
   "outputs": [],
   "source": [
    "# Convert 'Manufacturer' as binary indicators.\n",
    "\n",
    "for i in df['Manufacturer'].unique()[:-1]:\n",
    "    df[i] = (df['Manufacturer'] == i)\n",
    "df.head(10)"
   ]
  },
  {
   "cell_type": "code",
   "execution_count": null,
   "metadata": {
    "_kg_hide-input": true,
    "_uuid": "618821b26e06ef21043a2dd0f259bb9a33bb3754"
   },
   "outputs": [],
   "source": [
    "fig = plt.figure(figsize=(10,6))\n",
    "ax = plt.subplot(111)\n",
    "ax.set_axisbelow(True)\n",
    "plt.hist(df['Sales in thousands'], bins=25, rwidth=0.8)\n",
    "plt.xticks(fontsize=13)\n",
    "plt.yticks(fontsize=13)\n",
    "for spine in plt.gca().spines.values():\n",
    "    spine.set_visible(False)\n",
    "plt.tick_params(left=False)\n",
    "ax.set_xlabel('Sales in thousands', fontsize=16)\n",
    "ax.set_ylabel('Count', fontsize=16)\n",
    "ax.set_title('Distribution of Target Variable', fontsize=16)\n",
    "plt.grid(axis='y')\n",
    "plt.show()"
   ]
  },
  {
   "cell_type": "code",
   "execution_count": null,
   "metadata": {
    "_uuid": "008ba1cde1f99d92fd1923724192596d6af0d09f"
   },
   "outputs": [],
   "source": [
    "df = df[df['Sales in thousands'] <= 300]\n",
    "df.drop(['4-year resale value', 'Latest Launch'], axis=1, inplace=True)\n",
    "df.shape"
   ]
  },
  {
   "cell_type": "code",
   "execution_count": null,
   "metadata": {
    "_uuid": "7a17d3b499b738c64761989e17eb0e56171289fe"
   },
   "outputs": [],
   "source": [
    "df.head(10)"
   ]
  },
  {
   "cell_type": "code",
   "execution_count": null,
   "metadata": {
    "_uuid": "9107fdc858a7f1db27264328f7f21f602daf158a"
   },
   "outputs": [],
   "source": [
    "round(df.iloc[:, 2:].corr(), 4)"
   ]
  },
  {
   "cell_type": "markdown",
   "metadata": {
    "_uuid": "7e24e62d47ab34735221538ff1106cb819ed1f49"
   },
   "source": [
    "Baseline Model **LinearRegression**"
   ]
  },
  {
   "cell_type": "code",
   "execution_count": null,
   "metadata": {
    "_uuid": "07e5e593554588d4b49fe90e1ec40a0d9092186d"
   },
   "outputs": [],
   "source": [
    "X_train, X_test, y_train, y_test = train_test_split(df.drop(['Manufacturer', 'Model', 'Sales in thousands'], axis=1), df['Sales in thousands'], random_state = 0)\n",
    "linreg = LinearRegression().fit(X_train, y_train)\n",
    "\n",
    "print('linear model coeff (w): {}'.format(linreg.coef_))\n",
    "print('linear model intercept (b): {:.3f}'.format(linreg.intercept_))\n",
    "print('R-squared score (training): {:.3f}'.format(linreg.score(X_train, y_train)))\n",
    "print('R-squared score (test): {:.3f}'.format(linreg.score(X_test, y_test)))"
   ]
  },
  {
   "cell_type": "markdown",
   "metadata": {
    "_uuid": "463e39eb311dcdb551d1067f6bd3d3a0bcae9e46"
   },
   "source": [
    "**kNN Regression**"
   ]
  },
  {
   "cell_type": "code",
   "execution_count": null,
   "metadata": {
    "_uuid": "0ebeb0fca8208a13b03f92e17e85e6c538c035cd"
   },
   "outputs": [],
   "source": [
    "knn = KNeighborsRegressor().fit(X_train, y_train)\n",
    "print('R-squared score (training): {:.3f}'.format(knn.score(X_train, y_train)))\n",
    "print('R-squared score (test): {:.3f}'.format(knn.score(X_test, y_test)))"
   ]
  },
  {
   "cell_type": "code",
   "execution_count": null,
   "metadata": {
    "_uuid": "a6a0adf99a5df8d11f9905d0ec39ccbf718b03d9"
   },
   "outputs": [],
   "source": [
    "grid_values = {'n_neighbors': [1, 2, 3, 4, 5, 6, 7, 8, 9, 10]}\n",
    "kf = KFold(n_splits=5, random_state=13)\n",
    "grid_knn_mse = GridSearchCV(knn, param_grid = grid_values, scoring = 'neg_mean_squared_error', cv=kf, iid=False)\n",
    "grid_knn_mse.fit(X_train, y_train)\n",
    "\n",
    "print('Grid best parameter (min. MSE): ', grid_knn_mse.best_params_)\n",
    "print('Grid best score (MSE): ', grid_knn_mse.best_score_)"
   ]
  },
  {
   "cell_type": "code",
   "execution_count": null,
   "metadata": {
    "_uuid": "43802a4f7b675f6c4c6c4ecd97b548af7dc40f54"
   },
   "outputs": [],
   "source": [
    "knn = grid_knn_mse.best_estimator_\n",
    "print('R-squared score (training): {:.3f}'.format(knn.score(X_train, y_train)))\n",
    "print('R-squared score (test): {:.3f}'.format(knn.score(X_test, y_test)))"
   ]
  },
  {
   "cell_type": "markdown",
   "metadata": {
    "_uuid": "55352a48bc66bfb11dda17f6160ef8b20518e6e7"
   },
   "source": [
    "**Support Vector Machine Regression**"
   ]
  },
  {
   "cell_type": "code",
   "execution_count": null,
   "metadata": {
    "_uuid": "6c56f19ea2ff5de3784644873109f8a28253e026"
   },
   "outputs": [],
   "source": [
    "svm = SVR(gamma='scale').fit(X_train, y_train)\n",
    "print('R-squared score (training): {:.3f}'.format(svm.score(X_train, y_train)))\n",
    "print('R-squared score (test): {:.3f}'.format(svm.score(X_test, y_test)))"
   ]
  },
  {
   "cell_type": "code",
   "execution_count": null,
   "metadata": {
    "_uuid": "a649b0f27817912e28c973e584f1a59508fbd8ce"
   },
   "outputs": [],
   "source": [
    "grid_values = {'gamma': [0.0003, 0.001, 0.003, 0.01, 0.03, 0.1, 0.3, 1, 3, 10],\\\n",
    "               'C': [30, 100, 300, 1000, 3000, 10000, 30000, 100000, 300000, 1000000]}\n",
    "grid_svm_mse = GridSearchCV(svm, param_grid = grid_values, scoring = 'neg_mean_squared_error', cv=kf, iid=False)\n",
    "grid_svm_mse.fit(X_train, y_train)\n",
    "\n",
    "print('Grid best parameter (min. MSE): ', grid_svm_mse.best_params_)\n",
    "print('Grid best score (MSE): ', grid_svm_mse.best_score_)"
   ]
  },
  {
   "cell_type": "code",
   "execution_count": null,
   "metadata": {
    "_uuid": "641be1cb558e4d63cc9d8b22b5a1a6ef344e69f3"
   },
   "outputs": [],
   "source": [
    "svm = grid_svm_mse.best_estimator_\n",
    "print('R-squared score (training): {:.3f}'.format(svm.score(X_train, y_train)))\n",
    "print('R-squared score (test): {:.3f}'.format(svm.score(X_test, y_test)))"
   ]
  },
  {
   "cell_type": "markdown",
   "metadata": {
    "_uuid": "2e232fe06217bb60440df4803ff68d332302257c"
   },
   "source": [
    "**Decision Tree Regression**"
   ]
  },
  {
   "cell_type": "code",
   "execution_count": null,
   "metadata": {
    "_uuid": "9f305a90226f80542f6db0f36faba02d83cd0ded"
   },
   "outputs": [],
   "source": [
    "dt = DecisionTreeRegressor().fit(X_train, y_train)\n",
    "print('R-squared score (training): {:.3f}'.format(dt.score(X_train, y_train)))\n",
    "print('R-squared score (test): {:.3f}'.format(dt.score(X_test, y_test)))"
   ]
  },
  {
   "cell_type": "code",
   "execution_count": null,
   "metadata": {
    "_kg_hide-input": true,
    "_uuid": "d12c3cc2a181b523403e17262dc9187f4debb4e5"
   },
   "outputs": [],
   "source": [
    "plt.figure(figsize=(10,10), dpi=80)\n",
    "feature_names = X_train.columns\n",
    "feature_importance = pd.DataFrame(feature_names, columns=['features'])\n",
    "feature_importance['importance'] = pd.DataFrame(dt.feature_importances_)\n",
    "feature_importance.sort_values(by='importance', ascending=False, inplace=True)\n",
    "feature_importance.reset_index(drop=True, inplace=True)\n",
    "plt.barh(feature_importance['features'], feature_importance['importance'])\n",
    "plt.xlabel('Feature importance')\n",
    "plt.ylabel('Feature name')\n",
    "plt.show()"
   ]
  },
  {
   "cell_type": "code",
   "execution_count": null,
   "metadata": {
    "_uuid": "53a022b253135c9d0a57d04904e4743535b66ea9"
   },
   "outputs": [],
   "source": [
    "grid_values = {'max_depth': [1, 2, 3, 4, 5, 6, 7, 8, 9, 10],\\\n",
    "               'min_samples_split': [2, 4, 8, 16, 32, 64, 100],\\\n",
    "               'min_samples_leaf': [1, 2, 4, 8, 16, 32, 64, 100]}\n",
    "grid_dt_mse = GridSearchCV(dt, param_grid = grid_values, scoring = 'neg_mean_squared_error', cv=kf, iid=False)\n",
    "grid_dt_mse.fit(X_train, y_train)\n",
    "\n",
    "print('Grid best parameter (min. MSE): ', grid_dt_mse.best_params_)\n",
    "print('Grid best score (MSE): ', grid_dt_mse.best_score_)"
   ]
  },
  {
   "cell_type": "code",
   "execution_count": null,
   "metadata": {
    "_uuid": "e6f5e83edef68e1dd0fe5300eca5eb711634f1b6"
   },
   "outputs": [],
   "source": [
    "dt = grid_dt_mse.best_estimator_\n",
    "print('R-squared score (training): {:.3f}'.format(dt.score(X_train, y_train)))\n",
    "print('R-squared score (test): {:.3f}'.format(dt.score(X_test, y_test)))"
   ]
  },
  {
   "cell_type": "code",
   "execution_count": null,
   "metadata": {
    "_kg_hide-input": true,
    "_uuid": "7cbec9e6e6e6424d40b1052b169a6fe9394305d0"
   },
   "outputs": [],
   "source": [
    "plt.figure(figsize=(10,10), dpi=80)\n",
    "feature_names = X_train.columns\n",
    "feature_importance = pd.DataFrame(feature_names, columns=['features'])\n",
    "feature_importance['importance'] = pd.DataFrame(dt.feature_importances_)\n",
    "feature_importance.sort_values(by='importance', ascending=False, inplace=True)\n",
    "feature_importance.reset_index(drop=True, inplace=True)\n",
    "plt.barh(feature_importance['features'], feature_importance['importance'])\n",
    "plt.xlabel('Feature importance')\n",
    "plt.ylabel('Feature name')\n",
    "plt.show()"
   ]
  },
  {
   "cell_type": "markdown",
   "metadata": {
    "_uuid": "353faf469618f6178f52927badc70142bc34af03"
   },
   "source": [
    "**Random Forest Regression**"
   ]
  },
  {
   "cell_type": "code",
   "execution_count": null,
   "metadata": {
    "_uuid": "670f96574caa8c737a4b445edc91510b895bb994"
   },
   "outputs": [],
   "source": [
    "rf = RandomForestRegressor(n_estimators=100, random_state=3).fit(X_train, y_train)\n",
    "print('R-squared score (training): {:.3f}'.format(rf.score(X_train, y_train)))\n",
    "print('R-squared score (test): {:.3f}'.format(rf.score(X_test, y_test)))"
   ]
  },
  {
   "cell_type": "code",
   "execution_count": null,
   "metadata": {
    "_uuid": "0bf063dc9580dcfdf445f67188bb464301a0ee3d"
   },
   "outputs": [],
   "source": [
    "grid_values = {'max_depth': [1, 2, 3, 4, 5, 6, 7, 8, 9, 10],\\\n",
    "               'min_samples_split': [2, 4, 8, 16, 32, 64, 100],\\\n",
    "               'min_samples_leaf': [1, 2, 4, 8, 16, 32, 64, 100]}\n",
    "grid_rf_mse = GridSearchCV(rf, param_grid = grid_values, scoring = 'neg_mean_squared_error', cv=kf, iid=False, return_train_score=False)\n",
    "grid_rf_mse.fit(X_train, y_train)\n",
    "\n",
    "print('Grid best parameter (min. MSE): ', grid_rf_mse.best_params_)\n",
    "print('Grid best score (MSE): ', grid_rf_mse.best_score_)"
   ]
  },
  {
   "cell_type": "code",
   "execution_count": null,
   "metadata": {
    "_kg_hide-input": true,
    "_uuid": "1782683f9f8b9df295498c0f42e79bd700030e97",
    "scrolled": false
   },
   "outputs": [],
   "source": [
    "cv_results_rf = pd.DataFrame(grid_rf_mse.cv_results_)\n",
    "cv_results_rf = cv_results_rf[cv_results_rf['param_max_depth']==grid_rf_mse.best_params_['max_depth']]\n",
    "rf_score = np.array(cv_results_rf['mean_test_score']).reshape(8, 7)\n",
    "fig = plt.figure(figsize=(10,6))\n",
    "ax = plt.subplot(111)\n",
    "im = ax.imshow(rf_score, cmap='cividis')\n",
    "cbar = ax.figure.colorbar(im, ax=ax)\n",
    "ax.set_xticks(np.arange(7))\n",
    "ax.set_yticks(np.arange(8))\n",
    "ax.set_xticklabels(grid_values['min_samples_split'], fontsize=13)\n",
    "ax.set_yticklabels(grid_values['min_samples_leaf'], fontsize=13)\n",
    "for i in range(7):\n",
    "    for j in range(8):\n",
    "        text = ax.text(i, j, round(rf_score[j][i]), ha=\"center\", va=\"center\", color=\"w\")\n",
    "ax.set_xlabel('min_samples_split', fontsize=16)\n",
    "ax.set_ylabel('min_samples_leaf', fontsize=16)\n",
    "ax.set_title('Random Forest Grid Search', fontsize=16)\n",
    "plt.show()"
   ]
  },
  {
   "cell_type": "code",
   "execution_count": null,
   "metadata": {
    "_uuid": "0dad5a91d9621f9472097b874796db9d2a744729"
   },
   "outputs": [],
   "source": [
    "rf = grid_rf_mse.best_estimator_\n",
    "print('R-squared score (training): {:.3f}'.format(rf.score(X_train, y_train)))\n",
    "print('R-squared score (test): {:.3f}'.format(rf.score(X_test, y_test)))"
   ]
  },
  {
   "cell_type": "code",
   "execution_count": null,
   "metadata": {
    "_kg_hide-input": true,
    "_uuid": "1e4eb0257a44ca8d8f1f3fe6d784be9085e24966"
   },
   "outputs": [],
   "source": [
    "plt.figure(figsize=(10,6), dpi=80)\n",
    "ax = plt.subplot(111)\n",
    "feature_names = X_train.columns\n",
    "feature_importance = pd.DataFrame(feature_names, columns=['features'])\n",
    "feature_importance['importance'] = pd.DataFrame(rf.feature_importances_)\n",
    "feature_importance.sort_values(by='importance', ascending=False, inplace=True)\n",
    "feature_importance.reset_index(drop=True, inplace=True)\n",
    "feature_importance['features'].replace(['Ford         ', 'Honda        ', 'Toyota       '], ['Ford', 'Honda', 'Toyota'], inplace=True)\n",
    "bars = plt.barh(feature_importance['features'][:10], feature_importance['importance'][:10])\n",
    "plt.tick_params(left=False, bottom=False, labelbottom=False)\n",
    "for spine in plt.gca().spines.values():\n",
    "    spine.set_visible(False)\n",
    "for bar in bars:\n",
    "    plt.gca().text(bar.get_width() - 0.01, bar.get_y() + bar.get_height()/3, str(round(bar.get_width(),3)), \n",
    "                   ha='center', color='white', fontsize=11)\n",
    "plt.xticks(fontsize=13)\n",
    "plt.yticks(fontsize=13)\n",
    "plt.xlabel('Random Forest Feature importance (Top 10)', fontsize=16)\n",
    "plt.ylabel('Feature name', fontsize=16)\n",
    "plt.show()"
   ]
  },
  {
   "cell_type": "markdown",
   "metadata": {
    "_uuid": "6b77306934dcb0467aecf716b9eab42a976f55fb"
   },
   "source": [
    "**Neural Network Regression**"
   ]
  },
  {
   "cell_type": "code",
   "execution_count": null,
   "metadata": {
    "_uuid": "75342d8580d781e7e38072ff3475d4f12b2fa504"
   },
   "outputs": [],
   "source": [
    "#nn = MLPRegressor().fit(X_train, y_train)\n",
    "#print('R-squared score (training): {:.3f}'.format(nn.score(X_train, y_train)))\n",
    "#print('R-squared score (test): {:.3f}'.format(nn.score(X_test, y_test)))"
   ]
  },
  {
   "cell_type": "code",
   "execution_count": null,
   "metadata": {
    "_kg_hide-output": true,
    "_uuid": "557a62752a667a574d4eac629e9290570e08fd40"
   },
   "outputs": [],
   "source": [
    "#grid_values = {'hidden_layer_sizes': np.arange(1, 201),\\\n",
    "#               'learning_rate': ['constant', 'invscaling', 'adaptive']}\n",
    "#grid_nn_mse = GridSearchCV(nn, param_grid = grid_values, scoring = 'neg_mean_squared_error', cv=5, iid=False)\n",
    "#grid_nn_mse.fit(X_train, y_train)\n",
    "\n",
    "#print('Grid best parameter (min. MSE): ', grid_nn_mse.best_params_)\n",
    "#print('Grid best score (MSE): ', grid_nn_mse.best_score_)"
   ]
  },
  {
   "cell_type": "code",
   "execution_count": null,
   "metadata": {
    "_uuid": "f7a1a5ce9be67672ba1f543a5d58109e644d2ada"
   },
   "outputs": [],
   "source": [
    "#nn = MLPRegressor(hidden_layer_sizes=200, learning_rate='invscaling').fit(X_train, y_train)\n",
    "#print('R-squared score (training): {:.3f}'.format(nn.score(X_train, y_train)))\n",
    "#print('R-squared score (test): {:.3f}'.format(nn.score(X_test, y_test)))"
   ]
  },
  {
   "cell_type": "code",
   "execution_count": null,
   "metadata": {
    "_kg_hide-input": true,
    "_uuid": "2cd4ce435b8ca2a4120c980d28465545fa115054"
   },
   "outputs": [],
   "source": [
    "#nn = grid_nn_mse.best_estimator_\n",
    "#print('R-squared score (training): {:.3f}'.format(nn.score(X_train, y_train)))\n",
    "#print('R-squared score (test): {:.3f}'.format(nn.score(X_test, y_test)))"
   ]
  },
  {
   "cell_type": "markdown",
   "metadata": {
    "_uuid": "a6035918590800dccccad6523400da59c6ea386d"
   },
   "source": [
    "**XGB Gradient Boosting Regression**"
   ]
  },
  {
   "cell_type": "code",
   "execution_count": null,
   "metadata": {
    "_uuid": "ca30cb4ef2cbfc15b4bfb88f29a75625a586c7ae"
   },
   "outputs": [],
   "source": [
    "xg_reg = xgb.XGBRegressor().fit(X_train, y_train)\n",
    "print('R-squared score (training): {:.3f}'.format(xg_reg.score(X_train, y_train)))\n",
    "print('R-squared score (test): {:.3f}'.format(xg_reg.score(X_test, y_test)))"
   ]
  },
  {
   "cell_type": "code",
   "execution_count": null,
   "metadata": {
    "_uuid": "d9bfcb2e7542b98885cd5a7fe9288cf4d21f8220"
   },
   "outputs": [],
   "source": [
    "grid_values = {'max_depth': [1, 2, 3, 4, 5, 6, 7, 8, 9, 10],\\\n",
    "               'min_child_weight': [1, 2, 4, 8, 16, 32, 64, 100]}\n",
    "grid_xgb_mse = GridSearchCV(xg_reg, param_grid = grid_values, scoring = 'neg_mean_squared_error', cv=5, iid=False)\n",
    "grid_xgb_mse.fit(X_train, y_train)\n",
    "\n",
    "print('Grid best parameter (min. MSE): ', grid_xgb_mse.best_params_)\n",
    "print('Grid best score (MSE): ', grid_xgb_mse.best_score_)"
   ]
  },
  {
   "cell_type": "code",
   "execution_count": null,
   "metadata": {
    "_kg_hide-input": true,
    "_uuid": "63d776b18bbc041c96d8d49fa66b8f1e69655701"
   },
   "outputs": [],
   "source": [
    "xg_reg = grid_xgb_mse.best_estimator_\n",
    "print('R-squared score (training): {:.3f}'.format(xg_reg.score(X_train, y_train)))\n",
    "print('R-squared score (test): {:.3f}'.format(xg_reg.score(X_test, y_test)))"
   ]
  },
  {
   "cell_type": "markdown",
   "metadata": {
    "_uuid": "85b2399131b52606e429ffe077afb9fe3ae823e4"
   },
   "source": [
    "**sklearn Gradient Boosting Regression**"
   ]
  },
  {
   "cell_type": "code",
   "execution_count": null,
   "metadata": {
    "_uuid": "271f4622a57ae22b13fdba2f7e7a4a9fb8c1fbd1"
   },
   "outputs": [],
   "source": [
    "gb = GradientBoostingRegressor(random_state=3).fit(X_train, y_train)\n",
    "print('R-squared score (training): {:.3f}'.format(gb.score(X_train, y_train)))\n",
    "print('R-squared score (test): {:.3f}'.format(gb.score(X_test, y_test)))"
   ]
  },
  {
   "cell_type": "code",
   "execution_count": null,
   "metadata": {
    "_uuid": "8e5a17e849df42eb3cd0fc753dfa90e7820aa31e"
   },
   "outputs": [],
   "source": [
    "grid_values = {'max_depth': [1, 2, 3, 4, 5, 6, 7, 8, 9, 10],\\\n",
    "               'min_samples_split': [2, 4, 8, 16, 32, 64, 100],\\\n",
    "               'min_samples_leaf': [1, 2, 4, 8, 16, 32, 64, 100]}\n",
    "grid_gb_mse = GridSearchCV(gb, param_grid = grid_values, scoring = 'neg_mean_squared_error', cv=5, iid=False)\n",
    "grid_gb_mse.fit(X_train, y_train)\n",
    "\n",
    "print('Grid best parameter (min. MSE): ', grid_gb_mse.best_params_)\n",
    "print('Grid best score (MSE): ', grid_gb_mse.best_score_)"
   ]
  },
  {
   "cell_type": "code",
   "execution_count": null,
   "metadata": {
    "_kg_hide-input": true,
    "_uuid": "967cd092d3ff3dde621c08d5f9fa37f68603f775"
   },
   "outputs": [],
   "source": [
    "gb = grid_gb_mse.best_estimator_\n",
    "print('R-squared score (training): {:.3f}'.format(gb.score(X_train, y_train)))\n",
    "print('R-squared score (test): {:.3f}'.format(gb.score(X_test, y_test)))"
   ]
  },
  {
   "cell_type": "code",
   "execution_count": null,
   "metadata": {
    "_kg_hide-input": true,
    "_uuid": "28273c36ee28b1ea2a9dda49f2e8a806175319f5"
   },
   "outputs": [],
   "source": [
    "plt.figure(figsize=(10,10), dpi=80)\n",
    "feature_names = X_train.columns\n",
    "feature_importance = pd.DataFrame(feature_names, columns=['features'])\n",
    "feature_importance['importance'] = pd.DataFrame(gb.feature_importances_)\n",
    "feature_importance.sort_values(by='importance', ascending=False, inplace=True)\n",
    "feature_importance.reset_index(drop=True, inplace=True)\n",
    "plt.barh(feature_importance['features'], feature_importance['importance'])\n",
    "plt.xlabel('Feature importance')\n",
    "plt.ylabel('Feature name')\n",
    "plt.show()"
   ]
  },
  {
   "cell_type": "markdown",
   "metadata": {
    "_uuid": "075053eb4cf4cd2b82f2c0d28ae342721ff224b6"
   },
   "source": [
    "**Stacking (Experiment)**"
   ]
  },
  {
   "cell_type": "code",
   "execution_count": null,
   "metadata": {
    "_uuid": "d701ad8cefb11c7340d60faf943f885a06ea3597"
   },
   "outputs": [],
   "source": [
    "stacking = pd.DataFrame(y_train)\n",
    "models = [linreg, knn, svm, dt, rf, gb, xg_reg]\n",
    "for i in models:\n",
    "    stacking[str(i)] = i.predict(X_train)\n",
    "stacking.columns = ['Sales in thousands', 'LinReg', 'kNN', 'SVM', 'Decision Tree', 'Random Forest', 'Gradient Boosting', 'XGB']\n",
    "stacking.sort_values('Sales in thousands', inplace=True)\n",
    "linreg_s = LinearRegression().fit(stacking.drop('Sales in thousands', axis=1), stacking['Sales in thousands'])\n",
    "coef = linreg_s.coef_\n",
    "print(coef)"
   ]
  },
  {
   "cell_type": "markdown",
   "metadata": {
    "_uuid": "ebecf31cd6268b2dda3d9e75f2698d96a7f03f63"
   },
   "source": [
    "---\n",
    "\n",
    "Here is the prediction results on our test set."
   ]
  },
  {
   "cell_type": "code",
   "execution_count": null,
   "metadata": {
    "_uuid": "6828b6545b392c41d545cdde5769c67b21333a8e"
   },
   "outputs": [],
   "source": [
    "prediction = pd.DataFrame(y_test)\n",
    "models = [linreg, knn, svm, dt, rf, gb, xg_reg]\n",
    "for i in models:\n",
    "    prediction[str(i)] = i.predict(X_test)\n",
    "prediction.columns = ['Sales in thousands', 'LinReg', 'kNN', 'SVM', 'Decision Tree', 'Random Forest', 'Gradient Boosting', 'XGB']\n",
    "prediction['Stacking'] = coef[0]*prediction['LinReg'] + coef[1]*prediction['kNN'] + coef[2]*prediction['SVM']\\\n",
    "                       + coef[3]*prediction['Decision Tree'] + coef[4]*prediction['Random Forest']\\\n",
    "                       + coef[5]*prediction['Gradient Boosting'] + coef[6]*prediction['XGB']\\\n",
    "                       + linreg_s.intercept_\n",
    "#prediction.sort_values('Sales in thousands', inplace=True)\n",
    "prediction.head()"
   ]
  },
  {
   "cell_type": "code",
   "execution_count": null,
   "metadata": {
    "_uuid": "50592ce0d5133a6bbde96b002ca97435fe2d7751"
   },
   "outputs": [],
   "source": [
    "score = []\n",
    "for i in range(1, 9):\n",
    "    score += [((prediction.iloc[:, i] - prediction['Sales in thousands'])**2).mean()]\n",
    "best_model = score.index(min(score))\n",
    "pd.Series(score, index = ['LinReg', 'kNN', 'SVM', 'Decision Tree', 'Random Forest', 'Gradient Boosting', 'XGB', 'Stacking'])"
   ]
  },
  {
   "cell_type": "code",
   "execution_count": null,
   "metadata": {
    "_kg_hide-input": true,
    "_uuid": "724bfdf4683a827902eb307dc9fb0a64f90bccca"
   },
   "outputs": [],
   "source": [
    "fig = plt.figure(figsize=(10, 6))\n",
    "plt.plot(np.arange(prediction.shape[0]), prediction['Sales in thousands'], label='True Value', linewidth=3)\n",
    "for i in range(len(prediction.columns[1:])):\n",
    "    if i == best_model:\n",
    "        plt.plot(np.arange(prediction.shape[0]), prediction.iloc[:, i+1], label=prediction.columns[i+1]+'('+str(round(score[i], 2))+')', linewidth=3)\n",
    "    else:\n",
    "        plt.plot(np.arange(prediction.shape[0]), prediction.iloc[:, i+1], label=prediction.columns[i+1]+'('+str(round(score[i], 2))+')')\n",
    "plt.title('Prediction Results', fontsize=16)\n",
    "plt.xticks(fontsize=13)\n",
    "plt.xlabel('Instances', fontsize=16)\n",
    "plt.yticks(fontsize=13)\n",
    "plt.ylabel('Sales in thousands', fontsize=16)\n",
    "plt.xlim(0, prediction.shape[0]-1)\n",
    "plt.grid()\n",
    "plt.legend(loc=2)\n",
    "plt.show()"
   ]
  },
  {
   "cell_type": "markdown",
   "metadata": {
    "_uuid": "9390d279effdafa64de9302ba154e26e185f2cc9"
   },
   "source": [
    "Here is the score on the entire set.\n",
    "\n",
    "\n",
    "(Given by sklearn cross_val_predict)"
   ]
  },
  {
   "cell_type": "code",
   "execution_count": null,
   "metadata": {
    "_uuid": "9ddd480613cfea39c479ee48305b38a80dee1e7b"
   },
   "outputs": [],
   "source": [
    "prediction = df.iloc[:, 2:3]\n",
    "models = [linreg, knn, svm, dt, rf, gb, xg_reg]\n",
    "for i in models:\n",
    "    prediction[str(i)] = cross_val_predict(i, df.drop(['Manufacturer', 'Model', 'Sales in thousands'], axis=1), df['Sales in thousands'], cv=5)\n",
    "prediction.columns = ['Sales in thousands', 'LinReg', 'kNN', 'SVM', 'Decision Tree', 'Random Forest', 'Gradient Boosting', 'XGB']\n",
    "prediction['Stacking'] = np.zeros(prediction.shape[0])\n",
    "for train_index, test_index in kf.split(prediction):\n",
    "    linreg_s = LinearRegression().fit(prediction.iloc[train_index, 1:], prediction.iloc[train_index, 0])\n",
    "    prediction.iloc[test_index, 8] = linreg_s.predict(prediction.iloc[test_index, 1:])\n",
    "#prediction.sort_values('Sales in thousands', inplace=True)\n",
    "prediction.head()"
   ]
  },
  {
   "cell_type": "code",
   "execution_count": null,
   "metadata": {
    "_uuid": "53d538b7cb76fe4309817b282da57966e1c1ed8c"
   },
   "outputs": [],
   "source": [
    "score = []\n",
    "for i in range(1, 9):\n",
    "    score += [((prediction.iloc[:, i] - prediction['Sales in thousands'])**2).mean()]\n",
    "best_model = score.index(min(score))\n",
    "pd.Series(score, index = ['LinReg', 'kNN', 'SVM', 'Decision Tree', 'Random Forest', 'Gradient Boosting', 'XGB', 'Stacking'])"
   ]
  },
  {
   "cell_type": "code",
   "execution_count": null,
   "metadata": {
    "_kg_hide-input": true,
    "_uuid": "b2f064b721d9d7fe3c51031ab41435b68aaeecdc"
   },
   "outputs": [],
   "source": [
    "fig = plt.figure(figsize=(10, 6))\n",
    "ax = plt.subplot(111)\n",
    "plt.plot(np.arange(prediction.shape[0]), prediction['Sales in thousands'], label='True Value', linewidth=3)\n",
    "for i in range(len(prediction.columns[1:])):\n",
    "    if i != best_model:\n",
    "        plt.plot(np.arange(prediction.shape[0]), prediction.iloc[:, i+1], label=prediction.columns[i+1]+'('+str(round(score[i], 2))+')', c='C'+str(i+1))\n",
    "for i in range(len(prediction.columns[1:])):\n",
    "    if i == best_model:\n",
    "        plt.plot(np.arange(prediction.shape[0]), prediction.iloc[:, i+1], label=prediction.columns[i+1]+'('+str(round(score[i], 2))+')', linewidth=3, c='C'+str(i+1))\n",
    "handles, labels = ax.get_legend_handles_labels()\n",
    "handles = handles[:5] + [handles[-1]] + handles[5:-1]\n",
    "plt.legend(handles=handles, loc=9, bbox_to_anchor=(0.5, -0.15), ncol=3)\n",
    "plt.title('Prediction Results', fontsize=16)\n",
    "plt.xticks(fontsize=13)\n",
    "plt.xlabel('Instances', fontsize=16)\n",
    "plt.yticks(fontsize=13)\n",
    "plt.ylabel('Sales in thousands', fontsize=16)\n",
    "plt.xlim(0, prediction.shape[0]-1)\n",
    "plt.grid()\n",
    "#plt.legend(loc=2)\n",
    "plt.show()"
   ]
  },
  {
   "cell_type": "markdown",
   "metadata": {
    "_uuid": "18cb6c3dd63c63b07d28a350d8093fb86bede4c0"
   },
   "source": [
    "It seems that we have a bad prediction on cars with sales more than 200 thousands. What are they?"
   ]
  },
  {
   "cell_type": "code",
   "execution_count": null,
   "metadata": {
    "_uuid": "eb6e54b10582616a015df9d33801d40a6b14cc26",
    "scrolled": true
   },
   "outputs": [],
   "source": [
    "df[df['Sales in thousands']>=200].iloc[:, :15]"
   ]
  }
 ],
 "metadata": {
  "kernelspec": {
   "display_name": "Python 3",
   "language": "python",
   "name": "python3"
  },
  "language_info": {
   "codemirror_mode": {
    "name": "ipython",
    "version": 3
   },
   "file_extension": ".py",
   "mimetype": "text/x-python",
   "name": "python",
   "nbconvert_exporter": "python",
   "pygments_lexer": "ipython3",
   "version": "3.6.5"
  }
 },
 "nbformat": 4,
 "nbformat_minor": 1
}
